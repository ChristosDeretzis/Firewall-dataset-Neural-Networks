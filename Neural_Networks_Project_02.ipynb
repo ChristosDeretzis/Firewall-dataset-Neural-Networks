{
 "cells": [
  {
   "cell_type": "code",
   "execution_count": 1,
   "metadata": {},
   "outputs": [],
   "source": [
    "import tensorflow as tf\n",
    "import pandas as pd\n",
    "import numpy as np\n",
    "import seaborn as sns\n",
    "from scipy import interp\n",
    "import matplotlib.pyplot as plt\n",
    "from itertools import cycle\n",
    "from sklearn.preprocessing import StandardScaler, LabelEncoder, MinMaxScaler\n",
    "from sklearn import model_selection\n",
    "from tensorflow.keras import layers\n",
    "from tensorflow.keras.layers.experimental import preprocessing\n",
    "from tensorflow.keras.layers import Dense, BatchNormalization, Dropout\n",
    "from tensorflow.keras.models import Sequential\n",
    "from tensorflow.keras.utils import to_categorical\n",
    "from sklearn.metrics import  confusion_matrix, classification_report, ConfusionMatrixDisplay\n",
    "from imblearn.over_sampling import SMOTE"
   ]
  },
  {
   "cell_type": "markdown",
   "metadata": {},
   "source": [
    "# Data Loading"
   ]
  },
  {
   "cell_type": "code",
   "execution_count": 2,
   "metadata": {},
   "outputs": [],
   "source": [
    "df = pd.read_csv(r\"C:\\Users\\user\\Documents\\UoM\\8th_semester\\Neural Neworks\\2η εργασία\\log2.csv\", engine=\"python\")"
   ]
  },
  {
   "cell_type": "markdown",
   "metadata": {},
   "source": [
    "# Data Exploration"
   ]
  },
  {
   "cell_type": "code",
   "execution_count": 3,
   "metadata": {},
   "outputs": [
    {
     "data": {
      "text/html": [
       "<div>\n",
       "<style scoped>\n",
       "    .dataframe tbody tr th:only-of-type {\n",
       "        vertical-align: middle;\n",
       "    }\n",
       "\n",
       "    .dataframe tbody tr th {\n",
       "        vertical-align: top;\n",
       "    }\n",
       "\n",
       "    .dataframe thead th {\n",
       "        text-align: right;\n",
       "    }\n",
       "</style>\n",
       "<table border=\"1\" class=\"dataframe\">\n",
       "  <thead>\n",
       "    <tr style=\"text-align: right;\">\n",
       "      <th></th>\n",
       "      <th>Source Port</th>\n",
       "      <th>Destination Port</th>\n",
       "      <th>NAT Source Port</th>\n",
       "      <th>NAT Destination Port</th>\n",
       "      <th>Action</th>\n",
       "      <th>Bytes</th>\n",
       "      <th>Bytes Sent</th>\n",
       "      <th>Bytes Received</th>\n",
       "      <th>Packets</th>\n",
       "      <th>Elapsed Time (sec)</th>\n",
       "      <th>pkts_sent</th>\n",
       "      <th>pkts_received</th>\n",
       "    </tr>\n",
       "  </thead>\n",
       "  <tbody>\n",
       "    <tr>\n",
       "      <th>0</th>\n",
       "      <td>57222</td>\n",
       "      <td>53</td>\n",
       "      <td>54587</td>\n",
       "      <td>53</td>\n",
       "      <td>allow</td>\n",
       "      <td>177</td>\n",
       "      <td>94</td>\n",
       "      <td>83</td>\n",
       "      <td>2</td>\n",
       "      <td>30</td>\n",
       "      <td>1</td>\n",
       "      <td>1</td>\n",
       "    </tr>\n",
       "    <tr>\n",
       "      <th>1</th>\n",
       "      <td>56258</td>\n",
       "      <td>3389</td>\n",
       "      <td>56258</td>\n",
       "      <td>3389</td>\n",
       "      <td>allow</td>\n",
       "      <td>4768</td>\n",
       "      <td>1600</td>\n",
       "      <td>3168</td>\n",
       "      <td>19</td>\n",
       "      <td>17</td>\n",
       "      <td>10</td>\n",
       "      <td>9</td>\n",
       "    </tr>\n",
       "    <tr>\n",
       "      <th>2</th>\n",
       "      <td>6881</td>\n",
       "      <td>50321</td>\n",
       "      <td>43265</td>\n",
       "      <td>50321</td>\n",
       "      <td>allow</td>\n",
       "      <td>238</td>\n",
       "      <td>118</td>\n",
       "      <td>120</td>\n",
       "      <td>2</td>\n",
       "      <td>1199</td>\n",
       "      <td>1</td>\n",
       "      <td>1</td>\n",
       "    </tr>\n",
       "    <tr>\n",
       "      <th>3</th>\n",
       "      <td>50553</td>\n",
       "      <td>3389</td>\n",
       "      <td>50553</td>\n",
       "      <td>3389</td>\n",
       "      <td>allow</td>\n",
       "      <td>3327</td>\n",
       "      <td>1438</td>\n",
       "      <td>1889</td>\n",
       "      <td>15</td>\n",
       "      <td>17</td>\n",
       "      <td>8</td>\n",
       "      <td>7</td>\n",
       "    </tr>\n",
       "    <tr>\n",
       "      <th>4</th>\n",
       "      <td>50002</td>\n",
       "      <td>443</td>\n",
       "      <td>45848</td>\n",
       "      <td>443</td>\n",
       "      <td>allow</td>\n",
       "      <td>25358</td>\n",
       "      <td>6778</td>\n",
       "      <td>18580</td>\n",
       "      <td>31</td>\n",
       "      <td>16</td>\n",
       "      <td>13</td>\n",
       "      <td>18</td>\n",
       "    </tr>\n",
       "  </tbody>\n",
       "</table>\n",
       "</div>"
      ],
      "text/plain": [
       "   Source Port  Destination Port  NAT Source Port  NAT Destination Port  \\\n",
       "0        57222                53            54587                    53   \n",
       "1        56258              3389            56258                  3389   \n",
       "2         6881             50321            43265                 50321   \n",
       "3        50553              3389            50553                  3389   \n",
       "4        50002               443            45848                   443   \n",
       "\n",
       "  Action  Bytes  Bytes Sent  Bytes Received  Packets  Elapsed Time (sec)  \\\n",
       "0  allow    177          94              83        2                  30   \n",
       "1  allow   4768        1600            3168       19                  17   \n",
       "2  allow    238         118             120        2                1199   \n",
       "3  allow   3327        1438            1889       15                  17   \n",
       "4  allow  25358        6778           18580       31                  16   \n",
       "\n",
       "   pkts_sent  pkts_received  \n",
       "0          1              1  \n",
       "1         10              9  \n",
       "2          1              1  \n",
       "3          8              7  \n",
       "4         13             18  "
      ]
     },
     "execution_count": 3,
     "metadata": {},
     "output_type": "execute_result"
    }
   ],
   "source": [
    "df.head()"
   ]
  },
  {
   "cell_type": "code",
   "execution_count": 4,
   "metadata": {},
   "outputs": [
    {
     "data": {
      "text/plain": [
       "Source Port             False\n",
       "Destination Port        False\n",
       "NAT Source Port         False\n",
       "NAT Destination Port    False\n",
       "Action                  False\n",
       "Bytes                   False\n",
       "Bytes Sent              False\n",
       "Bytes Received          False\n",
       "Packets                 False\n",
       "Elapsed Time (sec)      False\n",
       "pkts_sent               False\n",
       "pkts_received           False\n",
       "dtype: bool"
      ]
     },
     "execution_count": 4,
     "metadata": {},
     "output_type": "execute_result"
    }
   ],
   "source": [
    "df.isnull().any()"
   ]
  },
  {
   "cell_type": "code",
   "execution_count": 5,
   "metadata": {},
   "outputs": [
    {
     "data": {
      "text/plain": [
       "allow         37640\n",
       "deny          14987\n",
       "drop          12851\n",
       "reset-both       54\n",
       "Name: Action, dtype: int64"
      ]
     },
     "execution_count": 5,
     "metadata": {},
     "output_type": "execute_result"
    }
   ],
   "source": [
    "df['Action'].value_counts()"
   ]
  },
  {
   "cell_type": "code",
   "execution_count": 6,
   "metadata": {
    "scrolled": true
   },
   "outputs": [
    {
     "data": {
      "image/png": "[encoded data removed]",
      "text/plain": [
       "<Figure size 720x360 with 1 Axes>"
      ]
     },
     "metadata": {
      "needs_background": "light"
     },
     "output_type": "display_data"
    }
   ],
   "source": [
    "class_labels = ['allow', 'deny', 'drop', 'reset-both']\n",
    "class_count = list(df['Action'].value_counts())\n",
    "\n",
    "plt.figure(figsize=(10,5))\n",
    "plt.bar(class_labels, class_count)\n",
    "plt.title('Frequency for each Action')\n",
    "plt.xlabel('action')\n",
    "plt.ylabel('frequency')\n",
    "for i, v in enumerate(class_count):\n",
    "    plt.text(i, v + 100, s = str(v))\n",
    "plt.show()"
   ]
  },
  {
   "cell_type": "markdown",
   "metadata": {},
   "source": [
    "# Data Preprocessing"
   ]
  },
  {
   "cell_type": "code",
   "execution_count": 7,
   "metadata": {},
   "outputs": [],
   "source": [
    "df['target'] = df['Action']\n",
    "df['target'] = df['target'].astype(str)\n",
    "df = df.drop(['Action'], axis=1)\n",
    "\n",
    "X = df.drop(['target'], axis=1).to_numpy()\n",
    "y = df['target'].astype(str)"
   ]
  },
  {
   "cell_type": "code",
   "execution_count": 8,
   "metadata": {},
   "outputs": [
    {
     "data": {
      "image/png": "[encoded data removed]",
      "text/plain": [
       "<Figure size 864x576 with 1 Axes>"
      ]
     },
     "metadata": {
      "needs_background": "light"
     },
     "output_type": "display_data"
    }
   ],
   "source": [
    "dataframe = pd.DataFrame(data=X, columns=['Source Port', 'Des. Port', 'NAT Source', 'NAT Dest.', 'Bytes', 'Bytes Sent', 'Bytes Received', 'Packets', 'Elapsed Time (sec)', 'pkts_sent', 'pkts_received'])\n",
    "plt.figure(figsize=(12,8))\n",
    "g = sns.boxplot(x=\"variable\", y=\"value\", data=pd.melt(dataframe), showfliers=False)\n",
    "plt.show()"
   ]
  },
  {
   "cell_type": "code",
   "execution_count": 9,
   "metadata": {},
   "outputs": [],
   "source": [
    "labelEncoder = LabelEncoder()\n",
    "y = labelEncoder.fit_transform(y)\n",
    "\n",
    "standardScaler = StandardScaler()\n",
    "X = standardScaler.fit_transform(X)\n",
    "\n",
    "# Apply oversampling because of the imbalanced dataset\n",
    "oversampling = SMOTE(random_state=100)\n",
    "X_Smote, Y_Smote = oversampling.fit_resample(X, y)"
   ]
  },
  {
   "cell_type": "code",
   "execution_count": 10,
   "metadata": {},
   "outputs": [
    {
     "name": "stdout",
     "output_type": "stream",
     "text": [
      "[[0. 0. 0. 1.]\n",
      " [0. 0. 0. 1.]\n",
      " [1. 0. 0. 0.]\n",
      " ...\n",
      " [1. 0. 0. 0.]\n",
      " [0. 1. 0. 0.]\n",
      " [1. 0. 0. 0.]]\n"
     ]
    }
   ],
   "source": [
    "# split data to train and test\n",
    "Train_X, Test_X, Train_Y, Test_Y = model_selection.train_test_split(X_Smote, Y_Smote, test_size=0.3)\n",
    "\n",
    "# Convert target variable to categorical, to train it to the neural network\n",
    "Train_Y = to_categorical(Train_Y)\n",
    "print(Train_Y)\n",
    "Test_Y = to_categorical(Test_Y)"
   ]
  },
  {
   "cell_type": "code",
   "execution_count": 11,
   "metadata": {},
   "outputs": [
    {
     "data": {
      "image/png": "[encoded data removed]",
      "text/plain": [
       "<Figure size 864x576 with 1 Axes>"
      ]
     },
     "metadata": {
      "needs_background": "light"
     },
     "output_type": "display_data"
    }
   ],
   "source": [
    "dataframe = pd.DataFrame(data=X, columns=['Source Port', 'Des. Port', 'NAT Source', 'NAT Dest.', 'Bytes', 'Bytes Sent', 'Bytes Received', 'Packets', 'Elapsed Time (sec)', 'pkts_sent', 'pkts_received'])\n",
    "plt.figure(figsize=(12,8))\n",
    "g = sns.boxplot(x=\"variable\", y=\"value\", data=pd.melt(dataframe), showfliers=False)\n",
    "plt.show()"
   ]
  },
  {
   "cell_type": "markdown",
   "metadata": {},
   "source": [
    "# Build Neural Network Model"
   ]
  },
  {
   "cell_type": "code",
   "execution_count": 12,
   "metadata": {},
   "outputs": [
    {
     "name": "stdout",
     "output_type": "stream",
     "text": [
      "Model: \"sequential\"\n",
      "_________________________________________________________________\n",
      "Layer (type)                 Output Shape              Param #   \n",
      "=================================================================\n",
      "dense (Dense)                (None, 64)                768       \n",
      "_________________________________________________________________\n",
      "dropout (Dropout)            (None, 64)                0         \n",
      "_________________________________________________________________\n",
      "dense_1 (Dense)              (None, 32)                2080      \n",
      "_________________________________________________________________\n",
      "dropout_1 (Dropout)          (None, 32)                0         \n",
      "_________________________________________________________________\n",
      "dense_2 (Dense)              (None, 16)                528       \n",
      "_________________________________________________________________\n",
      "dropout_2 (Dropout)          (None, 16)                0         \n",
      "_________________________________________________________________\n",
      "dense_3 (Dense)              (None, 8)                 136       \n",
      "_________________________________________________________________\n",
      "dropout_3 (Dropout)          (None, 8)                 0         \n",
      "_________________________________________________________________\n",
      "dense_4 (Dense)              (None, 4)                 36        \n",
      "=================================================================\n",
      "Total params: 3,548\n",
      "Trainable params: 3,548\n",
      "Non-trainable params: 0\n",
      "_________________________________________________________________\n"
     ]
    }
   ],
   "source": [
    "model = Sequential()\n",
    "\n",
    "model.add(Dense(64, activation=\"relu\", input_dim=11))\n",
    "model.add(Dropout(0.1))\n",
    "model.add(Dense(32, activation=\"relu\"))\n",
    "model.add(Dropout(0.1))\n",
    "model.add(Dense(16, activation=\"relu\"))\n",
    "model.add(Dropout(0.1))\n",
    "model.add(Dense(8, activation=\"relu\"))\n",
    "model.add(Dropout(0.1))\n",
    "model.add(Dense(4, activation=\"softmax\"))\n",
    "\n",
    "\n",
    "model.compile(optimizer='adam',\n",
    "              loss='categorical_crossentropy',\n",
    "              metrics=[\"accuracy\"])\n",
    "\n",
    "model.summary()"
   ]
  },
  {
   "cell_type": "markdown",
   "metadata": {},
   "source": [
    "# Train Model"
   ]
  },
  {
   "cell_type": "code",
   "execution_count": 13,
   "metadata": {},
   "outputs": [
    {
     "name": "stdout",
     "output_type": "stream",
     "text": [
      "Epoch 1/100\n",
      "2306/2306 [==============================] - 7s 3ms/step - loss: 0.6141 - accuracy: 0.7235 - val_loss: 0.3025 - val_accuracy: 0.8426\n",
      "Epoch 2/100\n",
      "2306/2306 [==============================] - 5s 2ms/step - loss: 0.3339 - accuracy: 0.8381 - val_loss: 0.2912 - val_accuracy: 0.8621\n",
      "Epoch 3/100\n",
      "2306/2306 [==============================] - 5s 2ms/step - loss: 0.3159 - accuracy: 0.8522 - val_loss: 0.2691 - val_accuracy: 0.8864\n",
      "Epoch 4/100\n",
      "2306/2306 [==============================] - 5s 2ms/step - loss: 0.2946 - accuracy: 0.8675 - val_loss: 0.2319 - val_accuracy: 0.9059\n",
      "Epoch 5/100\n",
      "2306/2306 [==============================] - 5s 2ms/step - loss: 0.2688 - accuracy: 0.8882 - val_loss: 0.2288 - val_accuracy: 0.9027\n",
      "Epoch 6/100\n",
      "2306/2306 [==============================] - 5s 2ms/step - loss: 0.2579 - accuracy: 0.8936 - val_loss: 0.2131 - val_accuracy: 0.9141\n",
      "Epoch 7/100\n",
      "2306/2306 [==============================] - 5s 2ms/step - loss: 0.2478 - accuracy: 0.8972 - val_loss: 0.2042 - val_accuracy: 0.9180\n",
      "Epoch 8/100\n",
      "2306/2306 [==============================] - 6s 2ms/step - loss: 0.2411 - accuracy: 0.8999 - val_loss: 0.2059 - val_accuracy: 0.9254\n",
      "Epoch 9/100\n",
      "2306/2306 [==============================] - 6s 3ms/step - loss: 0.2377 - accuracy: 0.9026 - val_loss: 0.1979 - val_accuracy: 0.9243\n",
      "Epoch 10/100\n",
      "2306/2306 [==============================] - 5s 2ms/step - loss: 0.2310 - accuracy: 0.9074 - val_loss: 0.1984 - val_accuracy: 0.9152\n",
      "Epoch 11/100\n",
      "2306/2306 [==============================] - 5s 2ms/step - loss: 0.2284 - accuracy: 0.9095 - val_loss: 0.1853 - val_accuracy: 0.9263\n",
      "Epoch 12/100\n",
      "2306/2306 [==============================] - 5s 2ms/step - loss: 0.2248 - accuracy: 0.9101 - val_loss: 0.1839 - val_accuracy: 0.9262\n",
      "Epoch 13/100\n",
      "2306/2306 [==============================] - 7s 3ms/step - loss: 0.2200 - accuracy: 0.9127 - val_loss: 0.1960 - val_accuracy: 0.9204\n",
      "Epoch 14/100\n",
      "2306/2306 [==============================] - 7s 3ms/step - loss: 0.2194 - accuracy: 0.9131 - val_loss: 0.1868 - val_accuracy: 0.9230\n",
      "Epoch 15/100\n",
      "2306/2306 [==============================] - 5s 2ms/step - loss: 0.2152 - accuracy: 0.9152 - val_loss: 0.1754 - val_accuracy: 0.9314\n",
      "Epoch 16/100\n",
      "2306/2306 [==============================] - 6s 2ms/step - loss: 0.2117 - accuracy: 0.9168 - val_loss: 0.1813 - val_accuracy: 0.9264\n",
      "Epoch 17/100\n",
      "2306/2306 [==============================] - 5s 2ms/step - loss: 0.2102 - accuracy: 0.9170 - val_loss: 0.1710 - val_accuracy: 0.9320\n",
      "Epoch 18/100\n",
      "2306/2306 [==============================] - 5s 2ms/step - loss: 0.2140 - accuracy: 0.9152 - val_loss: 0.1722 - val_accuracy: 0.9350\n",
      "Epoch 19/100\n",
      "2306/2306 [==============================] - 5s 2ms/step - loss: 0.2071 - accuracy: 0.9178 - val_loss: 0.1702 - val_accuracy: 0.9363\n",
      "Epoch 20/100\n",
      "2306/2306 [==============================] - 5s 2ms/step - loss: 0.2081 - accuracy: 0.9189 - val_loss: 0.1634 - val_accuracy: 0.9353\n",
      "Epoch 21/100\n",
      "2306/2306 [==============================] - 5s 2ms/step - loss: 0.2057 - accuracy: 0.9202 - val_loss: 0.1599 - val_accuracy: 0.9378\n",
      "Epoch 22/100\n",
      "2306/2306 [==============================] - 5s 2ms/step - loss: 0.2008 - accuracy: 0.9222 - val_loss: 0.1718 - val_accuracy: 0.9311\n",
      "Epoch 23/100\n",
      "2306/2306 [==============================] - 8s 3ms/step - loss: 0.1960 - accuracy: 0.9237 - val_loss: 0.1656 - val_accuracy: 0.9336\n",
      "Epoch 24/100\n",
      "2306/2306 [==============================] - 5s 2ms/step - loss: 0.1982 - accuracy: 0.9233 - val_loss: 0.1528 - val_accuracy: 0.9407\n",
      "Epoch 25/100\n",
      "2306/2306 [==============================] - 5s 2ms/step - loss: 0.1986 - accuracy: 0.9232 - val_loss: 0.1689 - val_accuracy: 0.9395\n",
      "Epoch 26/100\n",
      "2306/2306 [==============================] - 5s 2ms/step - loss: 0.1928 - accuracy: 0.9259 - val_loss: 0.1602 - val_accuracy: 0.9331\n",
      "Epoch 27/100\n",
      "2306/2306 [==============================] - 6s 2ms/step - loss: 0.1895 - accuracy: 0.9272 - val_loss: 0.1618 - val_accuracy: 0.9332\n",
      "Epoch 28/100\n",
      "2306/2306 [==============================] - 6s 2ms/step - loss: 0.1960 - accuracy: 0.9247 - val_loss: 0.1534 - val_accuracy: 0.9399\n",
      "Epoch 29/100\n",
      "2306/2306 [==============================] - 6s 2ms/step - loss: 0.1866 - accuracy: 0.9276 - val_loss: 0.1509 - val_accuracy: 0.9408\n",
      "Epoch 30/100\n",
      "2306/2306 [==============================] - 5s 2ms/step - loss: 0.1868 - accuracy: 0.9282 - val_loss: 0.1479 - val_accuracy: 0.9439\n",
      "Epoch 31/100\n",
      "2306/2306 [==============================] - 5s 2ms/step - loss: 0.1896 - accuracy: 0.9270 - val_loss: 0.1705 - val_accuracy: 0.9376\n",
      "Epoch 32/100\n",
      "2306/2306 [==============================] - 6s 3ms/step - loss: 0.1891 - accuracy: 0.9277 - val_loss: 0.1517 - val_accuracy: 0.9414\n",
      "Epoch 33/100\n",
      "2306/2306 [==============================] - 6s 3ms/step - loss: 0.1919 - accuracy: 0.9272 - val_loss: 0.1510 - val_accuracy: 0.9401\n",
      "Epoch 34/100\n",
      "2306/2306 [==============================] - 5s 2ms/step - loss: 0.1843 - accuracy: 0.9269 - val_loss: 0.1567 - val_accuracy: 0.9404\n",
      "Epoch 35/100\n",
      "2306/2306 [==============================] - 5s 2ms/step - loss: 0.1856 - accuracy: 0.9305 - val_loss: 0.1634 - val_accuracy: 0.9420\n",
      "Epoch 36/100\n",
      "2306/2306 [==============================] - 5s 2ms/step - loss: 0.1802 - accuracy: 0.9306 - val_loss: 0.1490 - val_accuracy: 0.9428\n",
      "Epoch 37/100\n",
      "2306/2306 [==============================] - 5s 2ms/step - loss: 0.1824 - accuracy: 0.9296 - val_loss: 0.1521 - val_accuracy: 0.9419\n",
      "Epoch 38/100\n",
      "2306/2306 [==============================] - 6s 2ms/step - loss: 0.1801 - accuracy: 0.9314 - val_loss: 0.1663 - val_accuracy: 0.9378\n",
      "Epoch 39/100\n",
      "2306/2306 [==============================] - 6s 2ms/step - loss: 0.1784 - accuracy: 0.9319 - val_loss: 0.1382 - val_accuracy: 0.9474\n",
      "Epoch 40/100\n",
      "2306/2306 [==============================] - 5s 2ms/step - loss: 0.1854 - accuracy: 0.9324 - val_loss: 0.1631 - val_accuracy: 0.9402\n",
      "Epoch 41/100\n",
      "2306/2306 [==============================] - 5s 2ms/step - loss: 0.1853 - accuracy: 0.9311 - val_loss: 0.1626 - val_accuracy: 0.9459\n",
      "Epoch 42/100\n",
      "2306/2306 [==============================] - 6s 3ms/step - loss: 0.1904 - accuracy: 0.9285 - val_loss: 0.1415 - val_accuracy: 0.9476\n",
      "Epoch 43/100\n",
      "2306/2306 [==============================] - 7s 3ms/step - loss: 0.1849 - accuracy: 0.9306 - val_loss: 0.1732 - val_accuracy: 0.9400\n",
      "Epoch 44/100\n",
      "2306/2306 [==============================] - 8s 4ms/step - loss: 0.1821 - accuracy: 0.9306 - val_loss: 0.1399 - val_accuracy: 0.9458\n",
      "Epoch 45/100\n",
      "2306/2306 [==============================] - 6s 3ms/step - loss: 0.1808 - accuracy: 0.9319 - val_loss: 0.1403 - val_accuracy: 0.9465\n",
      "Epoch 46/100\n",
      "2306/2306 [==============================] - 5s 2ms/step - loss: 0.1795 - accuracy: 0.9319 - val_loss: 0.1678 - val_accuracy: 0.9393\n",
      "Epoch 47/100\n",
      "2306/2306 [==============================] - 5s 2ms/step - loss: 0.1839 - accuracy: 0.9320 - val_loss: 0.1430 - val_accuracy: 0.9420\n",
      "Epoch 48/100\n",
      "2306/2306 [==============================] - 5s 2ms/step - loss: 0.1897 - accuracy: 0.9286 - val_loss: 0.1490 - val_accuracy: 0.9435\n",
      "Epoch 49/100\n",
      "2306/2306 [==============================] - 5s 2ms/step - loss: 0.1791 - accuracy: 0.9332 - val_loss: 0.1475 - val_accuracy: 0.9424\n",
      "Epoch 50/100\n",
      "2306/2306 [==============================] - 7s 3ms/step - loss: 0.1820 - accuracy: 0.9320 - val_loss: 0.1428 - val_accuracy: 0.9475\n",
      "Epoch 51/100\n",
      "2306/2306 [==============================] - 6s 3ms/step - loss: 0.1784 - accuracy: 0.9325 - val_loss: 0.1433 - val_accuracy: 0.9446\n",
      "Epoch 52/100\n",
      "2306/2306 [==============================] - 6s 2ms/step - loss: 0.1817 - accuracy: 0.9306 - val_loss: 0.1476 - val_accuracy: 0.9417\n",
      "Epoch 53/100\n",
      "2306/2306 [==============================] - 5s 2ms/step - loss: 0.1822 - accuracy: 0.9316 - val_loss: 0.1582 - val_accuracy: 0.9391\n",
      "Epoch 54/100\n",
      "2306/2306 [==============================] - 5s 2ms/step - loss: 0.1735 - accuracy: 0.9341 - val_loss: 0.1443 - val_accuracy: 0.9474\n",
      "Epoch 55/100\n",
      "2306/2306 [==============================] - 5s 2ms/step - loss: 0.1780 - accuracy: 0.9326 - val_loss: 0.1471 - val_accuracy: 0.9457\n",
      "Epoch 56/100\n",
      "2306/2306 [==============================] - 6s 2ms/step - loss: 0.1788 - accuracy: 0.9330 - val_loss: 0.1616 - val_accuracy: 0.9428\n",
      "Epoch 57/100\n"
     ]
    },
    {
     "name": "stdout",
     "output_type": "stream",
     "text": [
      "2306/2306 [==============================] - 6s 3ms/step - loss: 0.1788 - accuracy: 0.9323 - val_loss: 0.1461 - val_accuracy: 0.9423\n",
      "Epoch 58/100\n",
      "2306/2306 [==============================] - 5s 2ms/step - loss: 0.1726 - accuracy: 0.9329 - val_loss: 0.1467 - val_accuracy: 0.9454\n",
      "Epoch 59/100\n",
      "2306/2306 [==============================] - 7s 3ms/step - loss: 0.1720 - accuracy: 0.9350 - val_loss: 0.1400 - val_accuracy: 0.9460\n",
      "Epoch 60/100\n",
      "2306/2306 [==============================] - 6s 3ms/step - loss: 0.1737 - accuracy: 0.9359 - val_loss: 0.1532 - val_accuracy: 0.9453\n",
      "Epoch 61/100\n",
      "2306/2306 [==============================] - 6s 2ms/step - loss: 0.1729 - accuracy: 0.9342 - val_loss: 0.1579 - val_accuracy: 0.9386\n",
      "Epoch 62/100\n",
      "2306/2306 [==============================] - 6s 3ms/step - loss: 0.1856 - accuracy: 0.9321 - val_loss: 0.1633 - val_accuracy: 0.9381\n",
      "Epoch 63/100\n",
      "2306/2306 [==============================] - 6s 2ms/step - loss: 0.1739 - accuracy: 0.9339 - val_loss: 0.1649 - val_accuracy: 0.9428\n",
      "Epoch 64/100\n",
      "2306/2306 [==============================] - 6s 2ms/step - loss: 0.1712 - accuracy: 0.9360 - val_loss: 0.1447 - val_accuracy: 0.9444\n",
      "Epoch 65/100\n",
      "2306/2306 [==============================] - 6s 3ms/step - loss: 0.1810 - accuracy: 0.9335 - val_loss: 0.1418 - val_accuracy: 0.9444\n",
      "Epoch 66/100\n",
      "2306/2306 [==============================] - 6s 3ms/step - loss: 0.1723 - accuracy: 0.9343 - val_loss: 0.1571 - val_accuracy: 0.9418\n",
      "Epoch 67/100\n",
      "2306/2306 [==============================] - 6s 3ms/step - loss: 0.1784 - accuracy: 0.9346 - val_loss: 0.1480 - val_accuracy: 0.9400\n",
      "Epoch 68/100\n",
      "2306/2306 [==============================] - 7s 3ms/step - loss: 0.1756 - accuracy: 0.9349 - val_loss: 0.1388 - val_accuracy: 0.9466\n",
      "Epoch 69/100\n",
      "2306/2306 [==============================] - 6s 3ms/step - loss: 0.1737 - accuracy: 0.9352 - val_loss: 0.1589 - val_accuracy: 0.9441\n",
      "Epoch 70/100\n",
      "2306/2306 [==============================] - 6s 3ms/step - loss: 0.1740 - accuracy: 0.9349 - val_loss: 0.1427 - val_accuracy: 0.9472\n",
      "Epoch 71/100\n",
      "2306/2306 [==============================] - 6s 3ms/step - loss: 0.1721 - accuracy: 0.9339 - val_loss: 0.1516 - val_accuracy: 0.9379\n",
      "Epoch 72/100\n",
      "2306/2306 [==============================] - 6s 3ms/step - loss: 0.1699 - accuracy: 0.9339 - val_loss: 0.1532 - val_accuracy: 0.9376\n",
      "Epoch 73/100\n",
      "2306/2306 [==============================] - 6s 3ms/step - loss: 0.1678 - accuracy: 0.9360 - val_loss: 0.1626 - val_accuracy: 0.9403\n",
      "Epoch 74/100\n",
      "2306/2306 [==============================] - 9s 4ms/step - loss: 0.1709 - accuracy: 0.9367 - val_loss: 0.1360 - val_accuracy: 0.9508\n",
      "Epoch 75/100\n",
      "2306/2306 [==============================] - 7s 3ms/step - loss: 0.1651 - accuracy: 0.9382 - val_loss: 0.1618 - val_accuracy: 0.9431\n",
      "Epoch 76/100\n",
      "2306/2306 [==============================] - 6s 3ms/step - loss: 0.1663 - accuracy: 0.9372 - val_loss: 0.1391 - val_accuracy: 0.9442\n",
      "Epoch 77/100\n",
      "2306/2306 [==============================] - 6s 2ms/step - loss: 0.1675 - accuracy: 0.9348 - val_loss: 0.1471 - val_accuracy: 0.9399\n",
      "Epoch 78/100\n",
      "2306/2306 [==============================] - 6s 2ms/step - loss: 0.1697 - accuracy: 0.9362 - val_loss: 0.1416 - val_accuracy: 0.9448\n",
      "Epoch 79/100\n",
      "2306/2306 [==============================] - 6s 3ms/step - loss: 0.1788 - accuracy: 0.9332 - val_loss: 0.1486 - val_accuracy: 0.9413\n",
      "Epoch 80/100\n",
      "2306/2306 [==============================] - 7s 3ms/step - loss: 0.1727 - accuracy: 0.9351 - val_loss: 0.1401 - val_accuracy: 0.9481\n",
      "Epoch 81/100\n",
      "2306/2306 [==============================] - 7s 3ms/step - loss: 0.1662 - accuracy: 0.9379 - val_loss: 0.1395 - val_accuracy: 0.9472\n",
      "Epoch 82/100\n",
      "2306/2306 [==============================] - 7s 3ms/step - loss: 0.1697 - accuracy: 0.9362 - val_loss: 0.1415 - val_accuracy: 0.9456\n",
      "Epoch 83/100\n",
      "2306/2306 [==============================] - 6s 3ms/step - loss: 0.1707 - accuracy: 0.9376 - val_loss: 0.1597 - val_accuracy: 0.9348\n",
      "Epoch 84/100\n",
      "2306/2306 [==============================] - 6s 3ms/step - loss: 0.1682 - accuracy: 0.9364 - val_loss: 0.1437 - val_accuracy: 0.9423\n",
      "Epoch 85/100\n",
      "2306/2306 [==============================] - 6s 3ms/step - loss: 0.1665 - accuracy: 0.9364 - val_loss: 0.1463 - val_accuracy: 0.9366\n",
      "Epoch 86/100\n",
      "2306/2306 [==============================] - 7s 3ms/step - loss: 0.1639 - accuracy: 0.9372 - val_loss: 0.1517 - val_accuracy: 0.9313\n",
      "Epoch 87/100\n",
      "2306/2306 [==============================] - 7s 3ms/step - loss: 0.1691 - accuracy: 0.9359 - val_loss: 0.1393 - val_accuracy: 0.9467\n",
      "Epoch 88/100\n",
      "2306/2306 [==============================] - 7s 3ms/step - loss: 0.1674 - accuracy: 0.9376 - val_loss: 0.1370 - val_accuracy: 0.9500\n",
      "Epoch 89/100\n",
      "2306/2306 [==============================] - 6s 3ms/step - loss: 0.1784 - accuracy: 0.9342 - val_loss: 0.1532 - val_accuracy: 0.9337\n",
      "Epoch 90/100\n",
      "2306/2306 [==============================] - 6s 3ms/step - loss: 0.1662 - accuracy: 0.9359 - val_loss: 0.1713 - val_accuracy: 0.9372\n",
      "Epoch 91/100\n",
      "2306/2306 [==============================] - 8s 3ms/step - loss: 0.1743 - accuracy: 0.9354 - val_loss: 0.1551 - val_accuracy: 0.9419\n",
      "Epoch 92/100\n",
      "2306/2306 [==============================] - 7s 3ms/step - loss: 0.1696 - accuracy: 0.9365 - val_loss: 0.1428 - val_accuracy: 0.9449\n",
      "Epoch 93/100\n",
      "2306/2306 [==============================] - 7s 3ms/step - loss: 0.1670 - accuracy: 0.9376 - val_loss: 0.1455 - val_accuracy: 0.9446\n",
      "Epoch 94/100\n",
      "2306/2306 [==============================] - 7s 3ms/step - loss: 0.1687 - accuracy: 0.9373 - val_loss: 0.1421 - val_accuracy: 0.9464\n",
      "Epoch 95/100\n",
      "2306/2306 [==============================] - 8s 3ms/step - loss: 0.1626 - accuracy: 0.9393 - val_loss: 0.1368 - val_accuracy: 0.9447\n",
      "Epoch 96/100\n",
      "2306/2306 [==============================] - 7s 3ms/step - loss: 0.1670 - accuracy: 0.9373 - val_loss: 0.1455 - val_accuracy: 0.9437\n",
      "Epoch 97/100\n",
      "2306/2306 [==============================] - 7s 3ms/step - loss: 0.1679 - accuracy: 0.9369 - val_loss: 0.1621 - val_accuracy: 0.9337\n",
      "Epoch 98/100\n",
      "2306/2306 [==============================] - 8s 3ms/step - loss: 0.1718 - accuracy: 0.9359 - val_loss: 0.1360 - val_accuracy: 0.9442\n",
      "Epoch 99/100\n",
      "2306/2306 [==============================] - 6s 3ms/step - loss: 0.1695 - accuracy: 0.9358 - val_loss: 0.1416 - val_accuracy: 0.9434\n",
      "Epoch 100/100\n",
      "2306/2306 [==============================] - 8s 3ms/step - loss: 0.1686 - accuracy: 0.9378 - val_loss: 0.1454 - val_accuracy: 0.9379\n"
     ]
    }
   ],
   "source": [
    "history = model.fit(Train_X, Train_Y, batch_size = 32, epochs = 100, validation_split=0.3)"
   ]
  },
  {
   "cell_type": "markdown",
   "metadata": {},
   "source": [
    "# Evaluate model"
   ]
  },
  {
   "cell_type": "code",
   "execution_count": 14,
   "metadata": {},
   "outputs": [
    {
     "name": "stdout",
     "output_type": "stream",
     "text": [
      "\n",
      "val_accuracy: 93.64%\n"
     ]
    }
   ],
   "source": [
    "val_accuracy = np.mean(history.history['val_accuracy'])\n",
    "print(\"\\n%s: %.2f%%\" % ('val_accuracy', val_accuracy*100))"
   ]
  },
  {
   "cell_type": "code",
   "execution_count": 15,
   "metadata": {},
   "outputs": [
    {
     "data": {
      "image/png": "[encoded data removed]",
      "text/plain": [
       "<Figure size 432x288 with 1 Axes>"
      ]
     },
     "metadata": {
      "needs_background": "light"
     },
     "output_type": "display_data"
    },
    {
     "data": {
      "image/png": "[encoded data removed]",
      "text/plain": [
       "<Figure size 432x288 with 1 Axes>"
      ]
     },
     "metadata": {
      "needs_background": "light"
     },
     "output_type": "display_data"
    }
   ],
   "source": [
    "# Plotting Results\n",
    "import matplotlib.pyplot as plt\n",
    "\n",
    "acc = history.history['accuracy']\n",
    "val_acc = history.history['val_accuracy']\n",
    "loss = history.history['loss']\n",
    "val_loss = history.history['val_loss']\n",
    "epochs = range(1, len(acc) + 1)\n",
    "\n",
    "plt.plot(epochs, acc, 'b', label='Training acc')\n",
    "plt.plot(epochs, val_acc, 'g', label='Validation acc')\n",
    "plt.xlabel('Epochs')\n",
    "plt.ylabel('Accuracy')\n",
    "\n",
    "plt.title('Training and validation accuracy')\n",
    "plt.legend()\n",
    "fig = plt.figure()\n",
    "fig.savefig('acc.jpeg')\n",
    "\n",
    "\n",
    "plt.plot(epochs, loss, 'b', label='Training loss')\n",
    "plt.plot(epochs, val_loss, 'g', label='Validation loss')\n",
    "plt.xlabel('Epochs')\n",
    "plt.ylabel('Loss')\n",
    "plt.title('Training and validation loss')\n",
    "\n",
    "plt.legend()\n",
    "plt.show()"
   ]
  },
  {
   "cell_type": "code",
   "execution_count": 16,
   "metadata": {},
   "outputs": [
    {
     "name": "stdout",
     "output_type": "stream",
     "text": [
      "Test loss: 0.14467237889766693\n",
      "Test accuracy: 0.9386069774627686\n"
     ]
    }
   ],
   "source": [
    "score = model.evaluate(Test_X, Test_Y, verbose=0)\n",
    "print('Test loss:', score[0])\n",
    "print('Test accuracy:', score[1])"
   ]
  },
  {
   "cell_type": "markdown",
   "metadata": {},
   "source": [
    "# Evaluate model on Test Data"
   ]
  },
  {
   "cell_type": "code",
   "execution_count": 24,
   "metadata": {},
   "outputs": [],
   "source": [
    "Y_pred = model.predict(Test_X)\n",
    "\n",
    "predicted_classes = []\n",
    "for array in Y_pred:\n",
    "    max_class = np.argmax(array)\n",
    "    predicted_classes.append(max_class)\n",
    "    \n",
    "actual_classes = []\n",
    "for array in Test_Y:\n",
    "    max_class = np.argmax(array)\n",
    "    actual_classes.append(max_class)\n",
    "\n",
    "report = classification_report(actual_classes, predicted_classes, target_names=['allow','deny', 'drop', 'reset-both'], digits = 4)\n",
    "cm = confusion_matrix(actual_classes, predicted_classes)\n",
    "\n"
   ]
  },
  {
   "cell_type": "code",
   "execution_count": 26,
   "metadata": {},
   "outputs": [
    {
     "name": "stdout",
     "output_type": "stream",
     "text": [
      "              precision    recall  f1-score   support\n",
      "\n",
      "       allow     0.9993    0.9972    0.9983     11182\n",
      "        deny     0.9253    0.8229    0.8711     11379\n",
      "        drop     0.9912    1.0000    0.9956     11189\n",
      "  reset-both     0.8484    0.9363    0.8902     11418\n",
      "\n",
      "    accuracy                         0.9386     45168\n",
      "   macro avg     0.9411    0.9391    0.9388     45168\n",
      "weighted avg     0.9405    0.9386    0.9383     45168\n",
      "\n",
      "[[11151    29     0     2]\n",
      " [    8  9364    99  1908]\n",
      " [    0     0 11189     0]\n",
      " [    0   727     0 10691]]\n"
     ]
    }
   ],
   "source": [
    "print(report)\n",
    "print(cm)"
   ]
  },
  {
   "cell_type": "code",
   "execution_count": 27,
   "metadata": {},
   "outputs": [
    {
     "data": {
      "text/plain": [
       "<sklearn.metrics._plot.confusion_matrix.ConfusionMatrixDisplay at 0x1ffdbf885c0>"
      ]
     },
     "execution_count": 27,
     "metadata": {},
     "output_type": "execute_result"
    },
    {
     "data": {
      "image/png": "[encoded data removed]",
      "text/plain": [
       "<Figure size 432x288 with 2 Axes>"
      ]
     },
     "metadata": {
      "needs_background": "light"
     },
     "output_type": "display_data"
    }
   ],
   "source": [
    "cmd = ConfusionMatrixDisplay(cm, display_labels=['allow','deny', 'drop', 'reset-both'])\n",
    "cmd.plot()"
   ]
  },
  {
   "cell_type": "markdown",
   "metadata": {},
   "source": [
    "# Evaluate model on all data of the dataset"
   ]
  },
  {
   "cell_type": "code",
   "execution_count": 28,
   "metadata": {},
   "outputs": [],
   "source": [
    "Y = model.predict(X)\n",
    "\n",
    "predicted_classes = []\n",
    "for array in Y:\n",
    "    max_class = np.argmax(array)\n",
    "    predicted_classes.append(max_class)\n",
    "    \n",
    "actual_classes = []\n",
    "for item in y:\n",
    "    actual_classes.append(item)\n",
    "\n",
    "report = classification_report(y, predicted_classes, target_names=['allow','deny', 'drop', 'reset-both'], digits = 4) \n",
    "cm = confusion_matrix(y, predicted_classes)"
   ]
  },
  {
   "cell_type": "code",
   "execution_count": 29,
   "metadata": {},
   "outputs": [
    {
     "name": "stdout",
     "output_type": "stream",
     "text": [
      "              precision    recall  f1-score   support\n",
      "\n",
      "       allow     0.9998    0.9970    0.9984     37640\n",
      "        deny     0.9913    0.8206    0.8979     14987\n",
      "        drop     0.9901    1.0000    0.9950     12851\n",
      "  reset-both     0.0188    0.9074    0.0368        54\n",
      "\n",
      "    accuracy                         0.9572     65532\n",
      "   macro avg     0.7500    0.9313    0.7320     65532\n",
      "weighted avg     0.9951    0.9572    0.9740     65532\n",
      "\n",
      "[[37528   103     1     8]\n",
      " [    9 12298   127  2553]\n",
      " [    0     0 12851     0]\n",
      " [    0     5     0    49]]\n"
     ]
    }
   ],
   "source": [
    "print(report)\n",
    "print(cm)"
   ]
  },
  {
   "cell_type": "code",
   "execution_count": 30,
   "metadata": {},
   "outputs": [
    {
     "data": {
      "text/plain": [
       "<sklearn.metrics._plot.confusion_matrix.ConfusionMatrixDisplay at 0x1ffdbeb25c0>"
      ]
     },
     "execution_count": 30,
     "metadata": {},
     "output_type": "execute_result"
    },
    {
     "data": {
      "image/png": "[encoded data removed]",
      "text/plain": [
       "<Figure size 432x288 with 2 Axes>"
      ]
     },
     "metadata": {
      "needs_background": "light"
     },
     "output_type": "display_data"
    }
   ],
   "source": [
    "cmd = ConfusionMatrixDisplay(cm, display_labels=['allow','deny', 'drop', 'reset-both'])\n",
    "cmd.plot()"
   ]
  },
  {
   "cell_type": "code",
   "execution_count": 31,
   "metadata": {},
   "outputs": [
    {
     "data": {
      "text/plain": [
       "<sklearn.metrics._plot.confusion_matrix.ConfusionMatrixDisplay at 0x1ffdbd71278>"
      ]
     },
     "execution_count": 31,
     "metadata": {},
     "output_type": "execute_result"
    },
    {
     "data": {
      "image/png": "[encoded data removed]",
      "text/plain": [
       "<Figure size 432x288 with 2 Axes>"
      ]
     },
     "metadata": {
      "needs_background": "light"
     },
     "output_type": "display_data"
    }
   ],
   "source": [
    "normalized_cm = confusion_matrix(y, predicted_classes, normalize='true')\n",
    "normalized_cmd = ConfusionMatrixDisplay(normalized_cm, display_labels=['allow','deny', 'drop', 'reset-both'])\n",
    "normalized_cmd .plot()"
   ]
  },
  {
   "cell_type": "code",
   "execution_count": null,
   "metadata": {},
   "outputs": [],
   "source": []
  }
 ],
 "metadata": {
  "kernelspec": {
   "display_name": "Python 3",
   "language": "python",
   "name": "python3"
  },
  "language_info": {
   "codemirror_mode": {
    "name": "ipython",
    "version": 3
   },
   "file_extension": ".py",
   "mimetype": "text/x-python",
   "name": "python",
   "nbconvert_exporter": "python",
   "pygments_lexer": "ipython3",
   "version": "3.7.0"
  }
 },
 "nbformat": 4,
 "nbformat_minor": 2
}
