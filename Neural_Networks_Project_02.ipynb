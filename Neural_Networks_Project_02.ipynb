{
 "cells": [
  {
   "cell_type": "code",
   "execution_count": 97,
   "metadata": {},
   "outputs": [],
   "source": [
    "import tensorflow as tf\n",
    "import pandas as pd\n",
    "import numpy as np\n",
    "from scipy import interp\n",
    "import matplotlib.pyplot as plt\n",
    "from itertools import cycle\n",
    "from sklearn.preprocessing import StandardScaler, LabelEncoder\n",
    "from sklearn import model_selection\n",
    "from tensorflow.keras import layers\n",
    "from tensorflow.keras.layers.experimental import preprocessing\n",
    "from tensorflow.keras.layers import Dense, BatchNormalization, Dropout\n",
    "from tensorflow.keras.models import Sequential\n",
    "from tensorflow.keras.utils import to_categorical\n",
    "from sklearn.metrics import  confusion_matrix, classification_report, ConfusionMatrixDisplay, roc_curve, auc\n",
    "from imblearn.over_sampling import SMOTE"
   ]
  },
  {
   "cell_type": "markdown",
   "metadata": {},
   "source": [
    "# Data Loading"
   ]
  },
  {
   "cell_type": "code",
   "execution_count": 21,
   "metadata": {},
   "outputs": [],
   "source": [
    "df = pd.read_csv(r\"C:\\Users\\user\\Documents\\UoM\\8th_semester\\Neural Neworks\\2η εργασία\\log2.csv\", engine=\"python\")"
   ]
  },
  {
   "cell_type": "markdown",
   "metadata": {},
   "source": [
    "# Data Exploration"
   ]
  },
  {
   "cell_type": "code",
   "execution_count": 22,
   "metadata": {},
   "outputs": [
    {
     "data": {
      "text/html": [
       "<div>\n",
       "<style scoped>\n",
       "    .dataframe tbody tr th:only-of-type {\n",
       "        vertical-align: middle;\n",
       "    }\n",
       "\n",
       "    .dataframe tbody tr th {\n",
       "        vertical-align: top;\n",
       "    }\n",
       "\n",
       "    .dataframe thead th {\n",
       "        text-align: right;\n",
       "    }\n",
       "</style>\n",
       "<table border=\"1\" class=\"dataframe\">\n",
       "  <thead>\n",
       "    <tr style=\"text-align: right;\">\n",
       "      <th></th>\n",
       "      <th>Source Port</th>\n",
       "      <th>Destination Port</th>\n",
       "      <th>NAT Source Port</th>\n",
       "      <th>NAT Destination Port</th>\n",
       "      <th>Action</th>\n",
       "      <th>Bytes</th>\n",
       "      <th>Bytes Sent</th>\n",
       "      <th>Bytes Received</th>\n",
       "      <th>Packets</th>\n",
       "      <th>Elapsed Time (sec)</th>\n",
       "      <th>pkts_sent</th>\n",
       "      <th>pkts_received</th>\n",
       "    </tr>\n",
       "  </thead>\n",
       "  <tbody>\n",
       "    <tr>\n",
       "      <th>0</th>\n",
       "      <td>57222</td>\n",
       "      <td>53</td>\n",
       "      <td>54587</td>\n",
       "      <td>53</td>\n",
       "      <td>allow</td>\n",
       "      <td>177</td>\n",
       "      <td>94</td>\n",
       "      <td>83</td>\n",
       "      <td>2</td>\n",
       "      <td>30</td>\n",
       "      <td>1</td>\n",
       "      <td>1</td>\n",
       "    </tr>\n",
       "    <tr>\n",
       "      <th>1</th>\n",
       "      <td>56258</td>\n",
       "      <td>3389</td>\n",
       "      <td>56258</td>\n",
       "      <td>3389</td>\n",
       "      <td>allow</td>\n",
       "      <td>4768</td>\n",
       "      <td>1600</td>\n",
       "      <td>3168</td>\n",
       "      <td>19</td>\n",
       "      <td>17</td>\n",
       "      <td>10</td>\n",
       "      <td>9</td>\n",
       "    </tr>\n",
       "    <tr>\n",
       "      <th>2</th>\n",
       "      <td>6881</td>\n",
       "      <td>50321</td>\n",
       "      <td>43265</td>\n",
       "      <td>50321</td>\n",
       "      <td>allow</td>\n",
       "      <td>238</td>\n",
       "      <td>118</td>\n",
       "      <td>120</td>\n",
       "      <td>2</td>\n",
       "      <td>1199</td>\n",
       "      <td>1</td>\n",
       "      <td>1</td>\n",
       "    </tr>\n",
       "    <tr>\n",
       "      <th>3</th>\n",
       "      <td>50553</td>\n",
       "      <td>3389</td>\n",
       "      <td>50553</td>\n",
       "      <td>3389</td>\n",
       "      <td>allow</td>\n",
       "      <td>3327</td>\n",
       "      <td>1438</td>\n",
       "      <td>1889</td>\n",
       "      <td>15</td>\n",
       "      <td>17</td>\n",
       "      <td>8</td>\n",
       "      <td>7</td>\n",
       "    </tr>\n",
       "    <tr>\n",
       "      <th>4</th>\n",
       "      <td>50002</td>\n",
       "      <td>443</td>\n",
       "      <td>45848</td>\n",
       "      <td>443</td>\n",
       "      <td>allow</td>\n",
       "      <td>25358</td>\n",
       "      <td>6778</td>\n",
       "      <td>18580</td>\n",
       "      <td>31</td>\n",
       "      <td>16</td>\n",
       "      <td>13</td>\n",
       "      <td>18</td>\n",
       "    </tr>\n",
       "  </tbody>\n",
       "</table>\n",
       "</div>"
      ],
      "text/plain": [
       "   Source Port  Destination Port  NAT Source Port  NAT Destination Port  \\\n",
       "0        57222                53            54587                    53   \n",
       "1        56258              3389            56258                  3389   \n",
       "2         6881             50321            43265                 50321   \n",
       "3        50553              3389            50553                  3389   \n",
       "4        50002               443            45848                   443   \n",
       "\n",
       "  Action  Bytes  Bytes Sent  Bytes Received  Packets  Elapsed Time (sec)  \\\n",
       "0  allow    177          94              83        2                  30   \n",
       "1  allow   4768        1600            3168       19                  17   \n",
       "2  allow    238         118             120        2                1199   \n",
       "3  allow   3327        1438            1889       15                  17   \n",
       "4  allow  25358        6778           18580       31                  16   \n",
       "\n",
       "   pkts_sent  pkts_received  \n",
       "0          1              1  \n",
       "1         10              9  \n",
       "2          1              1  \n",
       "3          8              7  \n",
       "4         13             18  "
      ]
     },
     "execution_count": 22,
     "metadata": {},
     "output_type": "execute_result"
    }
   ],
   "source": [
    "df.head()"
   ]
  },
  {
   "cell_type": "code",
   "execution_count": 23,
   "metadata": {},
   "outputs": [
    {
     "data": {
      "text/plain": [
       "Source Port             False\n",
       "Destination Port        False\n",
       "NAT Source Port         False\n",
       "NAT Destination Port    False\n",
       "Action                  False\n",
       "Bytes                   False\n",
       "Bytes Sent              False\n",
       "Bytes Received          False\n",
       "Packets                 False\n",
       "Elapsed Time (sec)      False\n",
       "pkts_sent               False\n",
       "pkts_received           False\n",
       "dtype: bool"
      ]
     },
     "execution_count": 23,
     "metadata": {},
     "output_type": "execute_result"
    }
   ],
   "source": [
    "df.isnull().any()"
   ]
  },
  {
   "cell_type": "code",
   "execution_count": 24,
   "metadata": {},
   "outputs": [
    {
     "data": {
      "text/plain": [
       "allow         37640\n",
       "deny          14987\n",
       "drop          12851\n",
       "reset-both       54\n",
       "Name: Action, dtype: int64"
      ]
     },
     "execution_count": 24,
     "metadata": {},
     "output_type": "execute_result"
    }
   ],
   "source": [
    "df['Action'].value_counts()"
   ]
  },
  {
   "cell_type": "markdown",
   "metadata": {},
   "source": [
    "# Data Preprocessing"
   ]
  },
  {
   "cell_type": "code",
   "execution_count": 25,
   "metadata": {},
   "outputs": [],
   "source": [
    "df['target'] = df['Action']\n",
    "df['target'] = df['target'].astype(str)\n",
    "df = df.drop(['Action'], axis=1)\n",
    "\n",
    "X = df.drop(['target'], axis=1).to_numpy()\n",
    "y = df['target'].astype(str)"
   ]
  },
  {
   "cell_type": "code",
   "execution_count": 26,
   "metadata": {},
   "outputs": [
    {
     "name": "stdout",
     "output_type": "stream",
     "text": [
      "<class 'numpy.int32'>\n"
     ]
    }
   ],
   "source": [
    "labelEncoder = LabelEncoder()\n",
    "y = labelEncoder.fit_transform(y)\n",
    "\n",
    "standardScaler = StandardScaler()\n",
    "X = standardScaler.fit_transform(X)\n",
    "\n",
    "# Apply oversampling because of the imbalanced dataset\n",
    "oversampling = SMOTE(random_state=100)\n",
    "X_Smote, Y_Smote = oversampling.fit_resample(X, y)"
   ]
  },
  {
   "cell_type": "code",
   "execution_count": 27,
   "metadata": {},
   "outputs": [],
   "source": [
    "# split data to train and test\n",
    "Train_X, Test_X, Train_Y, Test_Y = model_selection.train_test_split(X_Smote, Y_Smote, test_size=0.3)\n",
    "\n",
    "# Convert target variable to categorical, to train it to the neural network\n",
    "Train_Y = to_categorical(Train_Y)\n",
    "Test_Y = to_categorical(Test_Y)"
   ]
  },
  {
   "cell_type": "markdown",
   "metadata": {},
   "source": [
    "# Build Neural Network Model"
   ]
  },
  {
   "cell_type": "code",
   "execution_count": 61,
   "metadata": {},
   "outputs": [
    {
     "name": "stdout",
     "output_type": "stream",
     "text": [
      "Model: \"sequential_4\"\n",
      "_________________________________________________________________\n",
      "Layer (type)                 Output Shape              Param #   \n",
      "=================================================================\n",
      "dense_19 (Dense)             (None, 64)                768       \n",
      "_________________________________________________________________\n",
      "dropout_11 (Dropout)         (None, 64)                0         \n",
      "_________________________________________________________________\n",
      "dense_20 (Dense)             (None, 32)                2080      \n",
      "_________________________________________________________________\n",
      "dropout_12 (Dropout)         (None, 32)                0         \n",
      "_________________________________________________________________\n",
      "dense_21 (Dense)             (None, 16)                528       \n",
      "_________________________________________________________________\n",
      "dropout_13 (Dropout)         (None, 16)                0         \n",
      "_________________________________________________________________\n",
      "dense_22 (Dense)             (None, 8)                 136       \n",
      "_________________________________________________________________\n",
      "dropout_14 (Dropout)         (None, 8)                 0         \n",
      "_________________________________________________________________\n",
      "dense_23 (Dense)             (None, 4)                 36        \n",
      "=================================================================\n",
      "Total params: 3,548\n",
      "Trainable params: 3,548\n",
      "Non-trainable params: 0\n",
      "_________________________________________________________________\n"
     ]
    }
   ],
   "source": [
    "model = Sequential()\n",
    "\n",
    "model.add(Dense(64, activation=\"relu\", input_dim=11))\n",
    "model.add(Dropout(0.1))\n",
    "model.add(Dense(32, activation=\"relu\"))\n",
    "model.add(Dropout(0.1))\n",
    "model.add(Dense(16, activation=\"relu\"))\n",
    "model.add(Dropout(0.1))\n",
    "model.add(Dense(8, activation=\"relu\"))\n",
    "model.add(Dropout(0.1))\n",
    "model.add(Dense(4, activation=\"softmax\"))\n",
    "\n",
    "\n",
    "model.compile(optimizer='adam',\n",
    "              loss='categorical_crossentropy',\n",
    "              metrics=[\"accuracy\"])\n",
    "\n",
    "model.summary()"
   ]
  },
  {
   "cell_type": "markdown",
   "metadata": {},
   "source": [
    "# Train Model"
   ]
  },
  {
   "cell_type": "code",
   "execution_count": 72,
   "metadata": {},
   "outputs": [
    {
     "name": "stdout",
     "output_type": "stream",
     "text": [
      "Epoch 1/100\n",
      "1318/1318 [==============================] - 4s 3ms/step - loss: 0.2226 - accuracy: 0.9137 - val_loss: 0.1916 - val_accuracy: 0.9294\n",
      "Epoch 2/100\n",
      "1318/1318 [==============================] - 4s 3ms/step - loss: 0.2204 - accuracy: 0.9140 - val_loss: 0.1900 - val_accuracy: 0.9283\n",
      "Epoch 3/100\n",
      "1318/1318 [==============================] - 4s 3ms/step - loss: 0.2176 - accuracy: 0.9165 - val_loss: 0.1886 - val_accuracy: 0.9290\n",
      "Epoch 4/100\n",
      "1318/1318 [==============================] - 4s 3ms/step - loss: 0.2127 - accuracy: 0.9179 - val_loss: 0.1797 - val_accuracy: 0.9299\n",
      "Epoch 5/100\n",
      "1318/1318 [==============================] - 4s 3ms/step - loss: 0.2102 - accuracy: 0.9189 - val_loss: 0.1767 - val_accuracy: 0.9341\n",
      "Epoch 6/100\n",
      "1318/1318 [==============================] - 5s 3ms/step - loss: 0.2088 - accuracy: 0.9203 - val_loss: 0.1803 - val_accuracy: 0.9292\n",
      "Epoch 7/100\n",
      "1318/1318 [==============================] - 5s 4ms/step - loss: 0.2060 - accuracy: 0.9205 - val_loss: 0.1737 - val_accuracy: 0.9335\n",
      "Epoch 8/100\n",
      "1318/1318 [==============================] - 5s 3ms/step - loss: 0.2044 - accuracy: 0.9212 - val_loss: 0.1690 - val_accuracy: 0.9351\n",
      "Epoch 9/100\n",
      "1318/1318 [==============================] - 9s 7ms/step - loss: 0.2035 - accuracy: 0.9214 - val_loss: 0.1700 - val_accuracy: 0.9343\n",
      "Epoch 10/100\n",
      "1318/1318 [==============================] - 6s 4ms/step - loss: 0.2027 - accuracy: 0.9211 - val_loss: 0.1668 - val_accuracy: 0.9361\n",
      "Epoch 11/100\n",
      "1318/1318 [==============================] - 7s 5ms/step - loss: 0.2010 - accuracy: 0.9207 - val_loss: 0.1739 - val_accuracy: 0.9297\n",
      "Epoch 12/100\n",
      "1318/1318 [==============================] - 7s 5ms/step - loss: 0.1963 - accuracy: 0.9232 - val_loss: 0.1632 - val_accuracy: 0.9345\n",
      "Epoch 13/100\n",
      "1318/1318 [==============================] - 6s 5ms/step - loss: 0.1966 - accuracy: 0.9224 - val_loss: 0.1660 - val_accuracy: 0.9321\n",
      "Epoch 14/100\n",
      "1318/1318 [==============================] - 5s 4ms/step - loss: 0.1956 - accuracy: 0.9227 - val_loss: 0.1612 - val_accuracy: 0.9322\n",
      "Epoch 15/100\n",
      "1318/1318 [==============================] - 8s 6ms/step - loss: 0.1949 - accuracy: 0.9240 - val_loss: 0.1662 - val_accuracy: 0.9336\n",
      "Epoch 16/100\n",
      "1318/1318 [==============================] - 11s 8ms/step - loss: 0.1930 - accuracy: 0.9244 - val_loss: 0.1639 - val_accuracy: 0.9318\n",
      "Epoch 17/100\n",
      "1318/1318 [==============================] - 11s 8ms/step - loss: 0.1898 - accuracy: 0.9252 - val_loss: 0.1543 - val_accuracy: 0.9404\n",
      "Epoch 18/100\n",
      "1318/1318 [==============================] - 8s 6ms/step - loss: 0.1906 - accuracy: 0.9249 - val_loss: 0.1533 - val_accuracy: 0.9367\n",
      "Epoch 19/100\n",
      "1318/1318 [==============================] - 7s 5ms/step - loss: 0.1877 - accuracy: 0.9260 - val_loss: 0.1519 - val_accuracy: 0.9370\n",
      "Epoch 20/100\n",
      "1318/1318 [==============================] - 6s 4ms/step - loss: 0.1870 - accuracy: 0.9267 - val_loss: 0.1474 - val_accuracy: 0.9425\n",
      "Epoch 21/100\n",
      "1318/1318 [==============================] - 6s 4ms/step - loss: 0.1848 - accuracy: 0.9273 - val_loss: 0.1529 - val_accuracy: 0.9362\n",
      "Epoch 22/100\n",
      "1318/1318 [==============================] - 6s 4ms/step - loss: 0.1880 - accuracy: 0.9262 - val_loss: 0.1607 - val_accuracy: 0.9328\n",
      "Epoch 23/100\n",
      "1318/1318 [==============================] - 6s 4ms/step - loss: 0.1864 - accuracy: 0.9269 - val_loss: 0.1508 - val_accuracy: 0.9415\n",
      "Epoch 24/100\n",
      "1318/1318 [==============================] - 6s 4ms/step - loss: 0.1853 - accuracy: 0.9270 - val_loss: 0.1596 - val_accuracy: 0.9365\n",
      "Epoch 25/100\n",
      "1318/1318 [==============================] - 6s 4ms/step - loss: 0.1839 - accuracy: 0.9281 - val_loss: 0.1661 - val_accuracy: 0.9333\n",
      "Epoch 26/100\n",
      "1318/1318 [==============================] - 6s 5ms/step - loss: 0.1830 - accuracy: 0.9286 - val_loss: 0.1640 - val_accuracy: 0.9362\n",
      "Epoch 27/100\n",
      "1318/1318 [==============================] - 5s 4ms/step - loss: 0.1851 - accuracy: 0.9277 - val_loss: 0.1629 - val_accuracy: 0.9329\n",
      "Epoch 28/100\n",
      "1318/1318 [==============================] - 5s 4ms/step - loss: 0.1802 - accuracy: 0.9285 - val_loss: 0.1487 - val_accuracy: 0.9411\n",
      "Epoch 29/100\n",
      "1318/1318 [==============================] - 7s 5ms/step - loss: 0.1890 - accuracy: 0.9285 - val_loss: 0.1566 - val_accuracy: 0.9370\n",
      "Epoch 30/100\n",
      "1318/1318 [==============================] - 8s 6ms/step - loss: 0.1863 - accuracy: 0.9289 - val_loss: 0.1542 - val_accuracy: 0.9386\n",
      "Epoch 31/100\n",
      "1318/1318 [==============================] - 9s 7ms/step - loss: 0.1895 - accuracy: 0.9271 - val_loss: 0.1474 - val_accuracy: 0.9444\n",
      "Epoch 32/100\n",
      "1318/1318 [==============================] - 12s 9ms/step - loss: 0.1804 - accuracy: 0.9290 - val_loss: 0.1499 - val_accuracy: 0.9376\n",
      "Epoch 33/100\n",
      "1318/1318 [==============================] - 9s 7ms/step - loss: 0.1803 - accuracy: 0.9302 - val_loss: 0.1617 - val_accuracy: 0.9379\n",
      "Epoch 34/100\n",
      "1318/1318 [==============================] - 10s 7ms/step - loss: 0.1815 - accuracy: 0.9293 - val_loss: 0.1572 - val_accuracy: 0.9379\n",
      "Epoch 35/100\n",
      "1318/1318 [==============================] - 8s 6ms/step - loss: 0.1799 - accuracy: 0.9308 - val_loss: 0.1584 - val_accuracy: 0.9349\n",
      "Epoch 36/100\n",
      "1318/1318 [==============================] - 5s 4ms/step - loss: 0.1782 - accuracy: 0.9314 - val_loss: 0.1509 - val_accuracy: 0.9407\n",
      "Epoch 37/100\n",
      "1318/1318 [==============================] - 5s 4ms/step - loss: 0.1854 - accuracy: 0.9289 - val_loss: 0.1561 - val_accuracy: 0.9361\n",
      "Epoch 38/100\n",
      "1318/1318 [==============================] - 5s 4ms/step - loss: 0.1789 - accuracy: 0.9304 - val_loss: 0.1567 - val_accuracy: 0.9386\n",
      "Epoch 39/100\n",
      "1318/1318 [==============================] - 4s 3ms/step - loss: 0.1821 - accuracy: 0.9295 - val_loss: 0.1480 - val_accuracy: 0.9386\n",
      "Epoch 40/100\n",
      "1318/1318 [==============================] - 4s 3ms/step - loss: 0.1787 - accuracy: 0.9309 - val_loss: 0.1410 - val_accuracy: 0.9431\n",
      "Epoch 41/100\n",
      "1318/1318 [==============================] - 4s 3ms/step - loss: 0.1783 - accuracy: 0.9314 - val_loss: 0.1487 - val_accuracy: 0.9373\n",
      "Epoch 42/100\n",
      "1318/1318 [==============================] - 5s 3ms/step - loss: 0.1768 - accuracy: 0.9317 - val_loss: 0.1653 - val_accuracy: 0.9357\n",
      "Epoch 43/100\n",
      "1318/1318 [==============================] - 4s 3ms/step - loss: 0.1770 - accuracy: 0.9325 - val_loss: 0.1458 - val_accuracy: 0.9425\n",
      "Epoch 44/100\n",
      "1318/1318 [==============================] - 5s 3ms/step - loss: 0.1758 - accuracy: 0.9337 - val_loss: 0.1579 - val_accuracy: 0.9388\n",
      "Epoch 45/100\n",
      "1318/1318 [==============================] - 4s 3ms/step - loss: 0.1744 - accuracy: 0.9332 - val_loss: 0.1380 - val_accuracy: 0.9441\n",
      "Epoch 46/100\n",
      "1318/1318 [==============================] - 4s 3ms/step - loss: 0.1747 - accuracy: 0.9337 - val_loss: 0.1400 - val_accuracy: 0.9426\n",
      "Epoch 47/100\n",
      "1318/1318 [==============================] - 4s 3ms/step - loss: 0.1735 - accuracy: 0.9340 - val_loss: 0.1391 - val_accuracy: 0.9427\n",
      "Epoch 48/100\n",
      "1318/1318 [==============================] - 4s 3ms/step - loss: 0.1697 - accuracy: 0.9362 - val_loss: 0.1352 - val_accuracy: 0.9486\n",
      "Epoch 49/100\n",
      "1318/1318 [==============================] - 7s 6ms/step - loss: 0.1747 - accuracy: 0.9331 - val_loss: 0.1605 - val_accuracy: 0.9304\n",
      "Epoch 50/100\n",
      "1318/1318 [==============================] - 10s 8ms/step - loss: 0.1701 - accuracy: 0.9353 - val_loss: 0.1386 - val_accuracy: 0.9459\n",
      "Epoch 51/100\n",
      "1318/1318 [==============================] - 8s 6ms/step - loss: 0.1742 - accuracy: 0.9352 - val_loss: 0.1448 - val_accuracy: 0.9402\n",
      "Epoch 52/100\n",
      "1318/1318 [==============================] - 7s 5ms/step - loss: 0.1757 - accuracy: 0.9338 - val_loss: 0.1564 - val_accuracy: 0.9401\n",
      "Epoch 53/100\n",
      "1318/1318 [==============================] - 8s 6ms/step - loss: 0.1721 - accuracy: 0.9338 - val_loss: 0.1476 - val_accuracy: 0.9359\n",
      "Epoch 54/100\n",
      "1318/1318 [==============================] - 8s 6ms/step - loss: 0.1694 - accuracy: 0.9358 - val_loss: 0.1464 - val_accuracy: 0.9388\n",
      "Epoch 55/100\n",
      "1318/1318 [==============================] - 9s 7ms/step - loss: 0.1683 - accuracy: 0.9352 - val_loss: 0.1476 - val_accuracy: 0.9501\n",
      "Epoch 56/100\n",
      "1318/1318 [==============================] - 8s 6ms/step - loss: 0.1716 - accuracy: 0.9345 - val_loss: 0.1583 - val_accuracy: 0.9400\n",
      "Epoch 57/100\n"
     ]
    },
    {
     "name": "stdout",
     "output_type": "stream",
     "text": [
      "1318/1318 [==============================] - 6s 5ms/step - loss: 0.1741 - accuracy: 0.9344 - val_loss: 0.1606 - val_accuracy: 0.9372\n",
      "Epoch 58/100\n",
      "1318/1318 [==============================] - 6s 4ms/step - loss: 0.1775 - accuracy: 0.9332 - val_loss: 0.1642 - val_accuracy: 0.9310\n",
      "Epoch 59/100\n",
      "1318/1318 [==============================] - 8s 6ms/step - loss: 0.1734 - accuracy: 0.9345 - val_loss: 0.1470 - val_accuracy: 0.9432\n",
      "Epoch 60/100\n",
      "1318/1318 [==============================] - 6s 4ms/step - loss: 0.1737 - accuracy: 0.9346 - val_loss: 0.1425 - val_accuracy: 0.9424\n",
      "Epoch 61/100\n",
      "1318/1318 [==============================] - 6s 4ms/step - loss: 0.1739 - accuracy: 0.9340 - val_loss: 0.1344 - val_accuracy: 0.9449\n",
      "Epoch 62/100\n",
      "1318/1318 [==============================] - 6s 4ms/step - loss: 0.1706 - accuracy: 0.9358 - val_loss: 0.1351 - val_accuracy: 0.9470\n",
      "Epoch 63/100\n",
      "1318/1318 [==============================] - 6s 5ms/step - loss: 0.1693 - accuracy: 0.9355 - val_loss: 0.1390 - val_accuracy: 0.9477\n",
      "Epoch 64/100\n",
      "1318/1318 [==============================] - 4s 3ms/step - loss: 0.1722 - accuracy: 0.9344 - val_loss: 0.1501 - val_accuracy: 0.9366\n",
      "Epoch 65/100\n",
      "1318/1318 [==============================] - 6s 5ms/step - loss: 0.1648 - accuracy: 0.9369 - val_loss: 0.1496 - val_accuracy: 0.9454\n",
      "Epoch 66/100\n",
      "1318/1318 [==============================] - 6s 4ms/step - loss: 0.1753 - accuracy: 0.9338 - val_loss: 0.1386 - val_accuracy: 0.9473\n",
      "Epoch 67/100\n",
      "1318/1318 [==============================] - 6s 4ms/step - loss: 0.1712 - accuracy: 0.9354 - val_loss: 0.1511 - val_accuracy: 0.9398\n",
      "Epoch 68/100\n",
      "1318/1318 [==============================] - 6s 5ms/step - loss: 0.1703 - accuracy: 0.9350 - val_loss: 0.1360 - val_accuracy: 0.9457\n",
      "Epoch 69/100\n",
      "1318/1318 [==============================] - 6s 5ms/step - loss: 0.1756 - accuracy: 0.9339 - val_loss: 0.1604 - val_accuracy: 0.9342\n",
      "Epoch 70/100\n",
      "1318/1318 [==============================] - 6s 4ms/step - loss: 0.1757 - accuracy: 0.9337 - val_loss: 0.1302 - val_accuracy: 0.9493\n",
      "Epoch 71/100\n",
      "1318/1318 [==============================] - 13s 10ms/step - loss: 0.1677 - accuracy: 0.9361 - val_loss: 0.1547 - val_accuracy: 0.9462\n",
      "Epoch 72/100\n",
      "1318/1318 [==============================] - 12s 9ms/step - loss: 0.1667 - accuracy: 0.9366 - val_loss: 0.1554 - val_accuracy: 0.9413\n",
      "Epoch 73/100\n",
      "1318/1318 [==============================] - 13s 10ms/step - loss: 0.1688 - accuracy: 0.9364 - val_loss: 0.1364 - val_accuracy: 0.9471\n",
      "Epoch 74/100\n",
      "1318/1318 [==============================] - 37s 28ms/step - loss: 0.1655 - accuracy: 0.9368 - val_loss: 0.1398 - val_accuracy: 0.9429ETA: 30s - loss: 0.1615 - a - ETA: 30s - loss: 0.16 - ETA: 28s - loss: 0.1636 - accuracy: 0.93 - ETA: 28s - loss: 0.1636 - accuracy: 0 - ETA: 27s - loss: 0.1627 - accuracy: 0.9 - ETA: 27s - loss: 0.1631 - accuracy:  - ETA: 26s - loss: 0.1 - ETA: 23s - loss: 0.1647 - accurac - ETA: - - ETA: 0s - loss: 0.1655 - accuracy: \n",
      "Epoch 75/100\n",
      "1318/1318 [==============================] - 41s 31ms/step - loss: 0.1706 - accuracy: 0.9360 - val_loss: 0.1368 - val_accuracy: 0.9449accu - ETA: 42s - loss: 0.1614 - accuracy: 0.93 - ETA: 43s - loss: 0.1614 - accuracy: 0. - E - ETA: 23s - lo - ETA: 20s - loss: 0.1776  - ETA: 18s - loss: 0.1757 - ETA: 16s - loss: 0.1743 - acc - ETA: 12s - loss: 0.1723 -  - ETA - ETA: 7s - los - ETA - ETA: 0s - loss: 0.1705 - \n",
      "Epoch 76/100\n",
      "1318/1318 [==============================] - 29s 22ms/step - loss: 0.1667 - accuracy: 0.9363 - val_loss: 0.1422 - val_accuracy: 0.9421- loss: 0.1630 - accuracy: 0.93 - ETA: 21s - loss: 0.1628 - a - ETA: 20s - loss: 0.1612 - a - ETA: 19s - loss: 0.1600 - accur - ETA: 18 - ETA: 16s - loss: 0.1620 - acc - ETA: 15s - loss: 0.1622 - accuracy: 0.9 - ETA: 15s - los - ETA: 13s - loss: 0.1624 - accura - ETA: 13s - los - ETA: 7s - loss: 0.1636 - ac - ETA: 7s - - ETA: 0s - loss: 0.1669 - accura\n",
      "Epoch 77/100\n",
      "1318/1318 [==============================] - 28s 21ms/step - loss: 0.1708 - accuracy: 0.9353 - val_loss: 0.1327 - val_accuracy: 0.95004 - accu - ETA: 2s - loss: 0.1715 - accuracy: 0. - ETA: 2s - loss: 0.1 - ETA: 0s -\n",
      "Epoch 78/100\n",
      "1318/1318 [==============================] - 32s 25ms/step - loss: 0.1675 - accuracy: 0.9366 - val_loss: 0.1369 - val_accuracy: 0.9498 37s - loss - ETA: 33s - loss: 0. - ETA: 26s - loss: 0.1740 - accurac - ETA: 24s - loss: 0.1727 - - ETA: 22s - loss: 0.1729 - accur - ETA: 20s  - ETA: 0s - loss: 0.1678 - \n",
      "Epoch 79/100\n",
      "1318/1318 [==============================] - 19s 14ms/step - loss: 0.1659 - accuracy: 0.9375 - val_loss: 0.1295 - val_accuracy: 0.9509\n",
      "Epoch 80/100\n",
      "1318/1318 [==============================] - 12s 9ms/step - loss: 0.1649 - accuracy: 0.9375 - val_loss: 0.1362 - val_accuracy: 0.9474\n",
      "Epoch 81/100\n",
      "1318/1318 [==============================] - 11s 8ms/step - loss: 0.1715 - accuracy: 0.9346 - val_loss: 0.1614 - val_accuracy: 0.9338\n",
      "Epoch 82/100\n",
      "1318/1318 [==============================] - 11s 8ms/step - loss: 0.1663 - accuracy: 0.9364 - val_loss: 0.1315 - val_accuracy: 0.9479\n",
      "Epoch 83/100\n",
      "1318/1318 [==============================] - 11s 9ms/step - loss: 0.1677 - accuracy: 0.9367 - val_loss: 0.1270 - val_accuracy: 0.9490\n",
      "Epoch 84/100\n",
      "1318/1318 [==============================] - 11s 8ms/step - loss: 0.1637 - accuracy: 0.9379 - val_loss: 0.1363 - val_accuracy: 0.9485\n",
      "Epoch 85/100\n",
      "1318/1318 [==============================] - 11s 8ms/step - loss: 0.1638 - accuracy: 0.9375 - val_loss: 0.1426 - val_accuracy: 0.9428\n",
      "Epoch 86/100\n",
      "1318/1318 [==============================] - 4s 3ms/step - loss: 0.1647 - accuracy: 0.9364 - val_loss: 0.1323 - val_accuracy: 0.9502\n",
      "Epoch 87/100\n",
      "1318/1318 [==============================] - 3s 2ms/step - loss: 0.1669 - accuracy: 0.9365 - val_loss: 0.1394 - val_accuracy: 0.9493\n",
      "Epoch 88/100\n",
      "1318/1318 [==============================] - 3s 2ms/step - loss: 0.1633 - accuracy: 0.9379 - val_loss: 0.1421 - val_accuracy: 0.9451\n",
      "Epoch 89/100\n",
      "1318/1318 [==============================] - 3s 2ms/step - loss: 0.1628 - accuracy: 0.9376 - val_loss: 0.1401 - val_accuracy: 0.9471\n",
      "Epoch 90/100\n",
      "1318/1318 [==============================] - 5s 3ms/step - loss: 0.1684 - accuracy: 0.9357 - val_loss: 0.1453 - val_accuracy: 0.9467\n",
      "Epoch 91/100\n",
      "1318/1318 [==============================] - 4s 3ms/step - loss: 0.1712 - accuracy: 0.9360 - val_loss: 0.1419 - val_accuracy: 0.9407\n",
      "Epoch 92/100\n",
      "1318/1318 [==============================] - 5s 4ms/step - loss: 0.1685 - accuracy: 0.9361 - val_loss: 0.1616 - val_accuracy: 0.9350\n",
      "Epoch 93/100\n",
      "1318/1318 [==============================] - 4s 3ms/step - loss: 0.1721 - accuracy: 0.9353 - val_loss: 0.1371 - val_accuracy: 0.9496\n",
      "Epoch 94/100\n",
      "1318/1318 [==============================] - 4s 3ms/step - loss: 0.1687 - accuracy: 0.9370 - val_loss: 0.1503 - val_accuracy: 0.9380\n",
      "Epoch 95/100\n",
      "1318/1318 [==============================] - 4s 3ms/step - loss: 0.1662 - accuracy: 0.9356 - val_loss: 0.1415 - val_accuracy: 0.9435\n",
      "Epoch 96/100\n",
      "1318/1318 [==============================] - 7s 5ms/step - loss: 0.1663 - accuracy: 0.9376 - val_loss: 0.1608 - val_accuracy: 0.9306\n",
      "Epoch 97/100\n",
      "1318/1318 [==============================] - 4s 3ms/step - loss: 0.1651 - accuracy: 0.9374 - val_loss: 0.1516 - val_accuracy: 0.9462\n",
      "Epoch 98/100\n",
      "1318/1318 [==============================] - 4s 3ms/step - loss: 0.1638 - accuracy: 0.9375 - val_loss: 0.1634 - val_accuracy: 0.9374\n",
      "Epoch 99/100\n",
      "1318/1318 [==============================] - 4s 3ms/step - loss: 0.1640 - accuracy: 0.9370 - val_loss: 0.1439 - val_accuracy: 0.9453\n",
      "Epoch 100/100\n",
      "1318/1318 [==============================] - 5s 4ms/step - loss: 0.1594 - accuracy: 0.9393 - val_loss: 0.1490 - val_accuracy: 0.9478\n"
     ]
    }
   ],
   "source": [
    "history = model.fit(Train_X, Train_Y, batch_size = 64, epochs = 100, validation_split=0.2)"
   ]
  },
  {
   "cell_type": "markdown",
   "metadata": {},
   "source": [
    "# Evaluate model"
   ]
  },
  {
   "cell_type": "code",
   "execution_count": 73,
   "metadata": {},
   "outputs": [
    {
     "name": "stdout",
     "output_type": "stream",
     "text": [
      "\n",
      "val_accuracy: 94.01%\n"
     ]
    }
   ],
   "source": [
    "val_accuracy = np.mean(history.history['val_accuracy'])\n",
    "print(\"\\n%s: %.2f%%\" % ('val_accuracy', val_accuracy*100))"
   ]
  },
  {
   "cell_type": "code",
   "execution_count": 74,
   "metadata": {},
   "outputs": [
    {
     "data": {
      "image/png": "[encoded data removed]",
      "text/plain": [
       "<Figure size 432x288 with 1 Axes>"
      ]
     },
     "metadata": {
      "needs_background": "light"
     },
     "output_type": "display_data"
    },
    {
     "data": {
      "image/png": "[encoded data removed]",
      "text/plain": [
       "<Figure size 432x288 with 1 Axes>"
      ]
     },
     "metadata": {
      "needs_background": "light"
     },
     "output_type": "display_data"
    }
   ],
   "source": [
    "# Plotting Results\n",
    "import matplotlib.pyplot as plt\n",
    "\n",
    "acc = history.history['accuracy']\n",
    "val_acc = history.history['val_accuracy']\n",
    "loss = history.history['loss']\n",
    "val_loss = history.history['val_loss']\n",
    "epochs = range(1, len(acc) + 1)\n",
    "\n",
    "plt.plot(epochs, acc, 'b', label='Training acc')\n",
    "plt.plot(epochs, val_acc, 'g', label='Validation acc')\n",
    "plt.xlabel('Epochs')\n",
    "plt.ylabel('Accuracy')\n",
    "\n",
    "plt.title('Training and validation accuracy')\n",
    "plt.legend()\n",
    "fig = plt.figure()\n",
    "fig.savefig('acc.jpeg')\n",
    "\n",
    "\n",
    "plt.plot(epochs, loss, 'b', label='Training loss')\n",
    "plt.plot(epochs, val_loss, 'g', label='Validation loss')\n",
    "plt.xlabel('Epochs')\n",
    "plt.ylabel('Loss')\n",
    "plt.title('Training and validation loss')\n",
    "\n",
    "plt.legend()\n",
    "plt.show()"
   ]
  },
  {
   "cell_type": "code",
   "execution_count": 75,
   "metadata": {},
   "outputs": [
    {
     "name": "stdout",
     "output_type": "stream",
     "text": [
      "Test loss: 0.14988291263580322\n",
      "Test accuracy: 0.9458909034729004\n"
     ]
    }
   ],
   "source": [
    "score = model.evaluate(Test_X, Test_Y, verbose=0)\n",
    "print('Test loss:', score[0])\n",
    "print('Test accuracy:', score[1])"
   ]
  },
  {
   "cell_type": "markdown",
   "metadata": {},
   "source": [
    "# Evaluate model on Test Data"
   ]
  },
  {
   "cell_type": "code",
   "execution_count": 96,
   "metadata": {},
   "outputs": [
    {
     "data": {
      "text/plain": [
       "array([0.01101989, 0.01614208, 0.3339005 , ..., 0.01635722, 0.34861043,\n",
       "       0.        ], dtype=float32)"
      ]
     },
     "execution_count": 96,
     "metadata": {},
     "output_type": "execute_result"
    }
   ],
   "source": [
    "Y_pred = model.predict(Test_X)\n",
    "\n",
    "predicted_classes = []\n",
    "for array in Y_pred:\n",
    "    max_class = np.argmax(array)\n",
    "    predicted_classes.append(max_class)\n",
    "    \n",
    "actual_classes = []\n",
    "for array in Test_Y:\n",
    "    max_class = np.argmax(array)\n",
    "    actual_classes.append(max_class)\n",
    "\n",
    "report = classification_report(actual_classes, predicted_classes, target_names=['allow','deny', 'drop', 'reset-both'])\n",
    "cm = confusion_matrix(actual_classes, predicted_classes)\n",
    "\n"
   ]
  },
  {
   "cell_type": "code",
   "execution_count": 95,
   "metadata": {},
   "outputs": [
    {
     "name": "stdout",
     "output_type": "stream",
     "text": [
      "              precision    recall  f1-score   support\n",
      "\n",
      "       allow       1.00      1.00      1.00     37640\n",
      "        deny       0.99      0.87      0.93     14987\n",
      "        drop       0.97      1.00      0.99     12851\n",
      "  reset-both       0.03      0.89      0.06        54\n",
      "\n",
      "    accuracy                           0.97     65532\n",
      "   macro avg       0.75      0.94      0.74     65532\n",
      "weighted avg       0.99      0.97      0.98     65532\n",
      "\n",
      "[[37537    95     3     5]\n",
      " [    6 13013   330  1638]\n",
      " [    0     0 12851     0]\n",
      " [    0     6     0    48]]\n"
     ]
    },
    {
     "ename": "TypeError",
     "evalue": "list indices must be integers or slices, not tuple",
     "output_type": "error",
     "traceback": [
      "\u001b[1;31m---------------------------------------------------------------------------\u001b[0m",
      "\u001b[1;31mTypeError\u001b[0m                                 Traceback (most recent call last)",
      "\u001b[1;32m<ipython-input-95-f482464a7491>\u001b[0m in \u001b[0;36m<module>\u001b[1;34m()\u001b[0m\n\u001b[0;32m      1\u001b[0m \u001b[0mprint\u001b[0m\u001b[1;33m(\u001b[0m\u001b[0mreport\u001b[0m\u001b[1;33m)\u001b[0m\u001b[1;33m\u001b[0m\u001b[0m\n\u001b[0;32m      2\u001b[0m \u001b[0mprint\u001b[0m\u001b[1;33m(\u001b[0m\u001b[0mcm\u001b[0m\u001b[1;33m)\u001b[0m\u001b[1;33m\u001b[0m\u001b[0m\n\u001b[1;32m----> 3\u001b[1;33m \u001b[0mprint\u001b[0m\u001b[1;33m(\u001b[0m\u001b[0mactual_classes\u001b[0m\u001b[1;33m[\u001b[0m\u001b[1;33m:\u001b[0m\u001b[1;33m,\u001b[0m\u001b[1;36m1\u001b[0m\u001b[1;33m]\u001b[0m\u001b[1;33m)\u001b[0m\u001b[1;33m\u001b[0m\u001b[0m\n\u001b[0m",
      "\u001b[1;31mTypeError\u001b[0m: list indices must be integers or slices, not tuple"
     ]
    }
   ],
   "source": [
    "print(report)\n",
    "print(cm)"
   ]
  },
  {
   "cell_type": "code",
   "execution_count": 91,
   "metadata": {},
   "outputs": [
    {
     "data": {
      "text/plain": [
       "<sklearn.metrics._plot.confusion_matrix.ConfusionMatrixDisplay at 0x1e09374b668>"
      ]
     },
     "execution_count": 91,
     "metadata": {},
     "output_type": "execute_result"
    },
    {
     "data": {
      "image/png": "[encoded data removed]",
      "text/plain": [
       "<Figure size 432x288 with 2 Axes>"
      ]
     },
     "metadata": {
      "needs_background": "light"
     },
     "output_type": "display_data"
    }
   ],
   "source": [
    "cmd = ConfusionMatrixDisplay(cm, display_labels=['allow','deny', 'drop', 'reset-both'])\n",
    "cmd.plot()"
   ]
  },
  {
   "cell_type": "code",
   "execution_count": 98,
   "metadata": {},
   "outputs": [
    {
     "ename": "NameError",
     "evalue": "name 'y_test' is not defined",
     "output_type": "error",
     "traceback": [
      "\u001b[1;31m---------------------------------------------------------------------------\u001b[0m",
      "\u001b[1;31mNameError\u001b[0m                                 Traceback (most recent call last)",
      "\u001b[1;32m<ipython-input-98-ab53216f4bb3>\u001b[0m in \u001b[0;36m<module>\u001b[1;34m()\u001b[0m\n\u001b[0;32m     13\u001b[0m \u001b[1;33m\u001b[0m\u001b[0m\n\u001b[0;32m     14\u001b[0m \u001b[1;31m# Compute micro-average ROC curve and ROC area\u001b[0m\u001b[1;33m\u001b[0m\u001b[1;33m\u001b[0m\u001b[0m\n\u001b[1;32m---> 15\u001b[1;33m \u001b[0mfpr\u001b[0m\u001b[1;33m[\u001b[0m\u001b[1;34m\"micro\"\u001b[0m\u001b[1;33m]\u001b[0m\u001b[1;33m,\u001b[0m \u001b[0mtpr\u001b[0m\u001b[1;33m[\u001b[0m\u001b[1;34m\"micro\"\u001b[0m\u001b[1;33m]\u001b[0m\u001b[1;33m,\u001b[0m \u001b[0m_\u001b[0m \u001b[1;33m=\u001b[0m \u001b[0mroc_curve\u001b[0m\u001b[1;33m(\u001b[0m\u001b[0my_test\u001b[0m\u001b[1;33m.\u001b[0m\u001b[0mravel\u001b[0m\u001b[1;33m(\u001b[0m\u001b[1;33m)\u001b[0m\u001b[1;33m,\u001b[0m \u001b[0my_score\u001b[0m\u001b[1;33m.\u001b[0m\u001b[0mravel\u001b[0m\u001b[1;33m(\u001b[0m\u001b[1;33m)\u001b[0m\u001b[1;33m)\u001b[0m\u001b[1;33m\u001b[0m\u001b[0m\n\u001b[0m\u001b[0;32m     16\u001b[0m \u001b[0mroc_auc\u001b[0m\u001b[1;33m[\u001b[0m\u001b[1;34m\"micro\"\u001b[0m\u001b[1;33m]\u001b[0m \u001b[1;33m=\u001b[0m \u001b[0mauc\u001b[0m\u001b[1;33m(\u001b[0m\u001b[0mfpr\u001b[0m\u001b[1;33m[\u001b[0m\u001b[1;34m\"micro\"\u001b[0m\u001b[1;33m]\u001b[0m\u001b[1;33m,\u001b[0m \u001b[0mtpr\u001b[0m\u001b[1;33m[\u001b[0m\u001b[1;34m\"micro\"\u001b[0m\u001b[1;33m]\u001b[0m\u001b[1;33m)\u001b[0m\u001b[1;33m\u001b[0m\u001b[0m\n\u001b[0;32m     17\u001b[0m \u001b[1;33m\u001b[0m\u001b[0m\n",
      "\u001b[1;31mNameError\u001b[0m: name 'y_test' is not defined"
     ]
    }
   ],
   "source": [
    "# Plot linewidth.\n",
    "lw = 2\n",
    "\n",
    "n_classes=4\n",
    "\n",
    "# Compute ROC curve and ROC area for each class\n",
    "fpr = dict()\n",
    "tpr = dict()\n",
    "roc_auc = dict()\n",
    "for i in range(n_classes):\n",
    "    fpr[i], tpr[i], _ = roc_curve(Test_Y[:, i], Y_pred[:, i])\n",
    "    roc_auc[i] = auc(fpr[i], tpr[i])\n",
    "\n",
    "# Compute micro-average ROC curve and ROC area\n",
    "fpr[\"micro\"], tpr[\"micro\"], _ = roc_curve(Test_Y.ravel(), y_score.ravel())\n",
    "roc_auc[\"micro\"] = auc(fpr[\"micro\"], tpr[\"micro\"])\n",
    "\n",
    "# Compute macro-average ROC curve and ROC area\n",
    "\n",
    "# First aggregate all false positive rates\n",
    "all_fpr = np.unique(np.concatenate([fpr[i] for i in range(n_classes)]))\n",
    "\n",
    "# Then interpolate all ROC curves at this points\n",
    "mean_tpr = np.zeros_like(all_fpr)\n",
    "for i in range(n_classes):\n",
    "    mean_tpr += interp(all_fpr, fpr[i], tpr[i])\n",
    "\n",
    "# Finally average it and compute AUC\n",
    "mean_tpr /= n_classes\n",
    "\n",
    "fpr[\"macro\"] = all_fpr\n",
    "tpr[\"macro\"] = mean_tpr\n",
    "roc_auc[\"macro\"] = auc(fpr[\"macro\"], tpr[\"macro\"])\n",
    "\n",
    "# Plot all ROC curves\n",
    "plt.figure(1)\n",
    "plt.plot(fpr[\"micro\"], tpr[\"micro\"],\n",
    "         label='micro-average ROC curve (area = {0:0.2f})'\n",
    "               ''.format(roc_auc[\"micro\"]),\n",
    "         color='deeppink', linestyle=':', linewidth=4)\n",
    "\n",
    "plt.plot(fpr[\"macro\"], tpr[\"macro\"],\n",
    "         label='macro-average ROC curve (area = {0:0.2f})'\n",
    "               ''.format(roc_auc[\"macro\"]),\n",
    "         color='navy', linestyle=':', linewidth=4)\n",
    "\n",
    "colors = cycle(['aqua', 'darkorange', 'cornflowerblue'])\n",
    "for i, color in zip(range(n_classes), colors):\n",
    "    plt.plot(fpr[i], tpr[i], color=color, lw=lw,\n",
    "             label='ROC curve of class {0} (area = {1:0.2f})'\n",
    "             ''.format(i, roc_auc[i]))\n",
    "\n",
    "plt.plot([0, 1], [0, 1], 'k--', lw=lw)\n",
    "plt.xlim([0.0, 1.0])\n",
    "plt.ylim([0.0, 1.05])\n",
    "plt.xlabel('False Positive Rate')\n",
    "plt.ylabel('True Positive Rate')\n",
    "plt.title('Some extension of Receiver operating characteristic to multi-class')\n",
    "plt.legend(loc=\"lower right\")\n",
    "plt.show()\n",
    "\n",
    "\n",
    "# Zoom in view of the upper left corner.\n",
    "plt.figure(2)\n",
    "plt.xlim(0, 0.2)\n",
    "plt.ylim(0.8, 1)\n",
    "plt.plot(fpr[\"micro\"], tpr[\"micro\"],\n",
    "         label='micro-average ROC curve (area = {0:0.2f})'\n",
    "               ''.format(roc_auc[\"micro\"]),\n",
    "         color='deeppink', linestyle=':', linewidth=4)\n",
    "\n",
    "plt.plot(fpr[\"macro\"], tpr[\"macro\"],\n",
    "         label='macro-average ROC curve (area = {0:0.2f})'\n",
    "               ''.format(roc_auc[\"macro\"]),\n",
    "         color='navy', linestyle=':', linewidth=4)\n",
    "\n",
    "colors = cycle(['aqua', 'darkorange', 'cornflowerblue', 'blue'])\n",
    "for i, color in zip(range(n_classes), colors):\n",
    "    plt.plot(fpr[i], tpr[i], color=color, lw=lw,\n",
    "             label='ROC curve of class {0} (area = {1:0.2f})'\n",
    "             ''.format(i, roc_auc[i]))\n",
    "\n",
    "plt.plot([0, 1], [0, 1], 'k--', lw=lw)\n",
    "plt.xlabel('False Positive Rate')\n",
    "plt.ylabel('True Positive Rate')\n",
    "plt.title('Some extension of Receiver operating characteristic to multi-class')\n",
    "plt.legend(loc=\"lower right\")\n",
    "plt.show()"
   ]
  },
  {
   "cell_type": "markdown",
   "metadata": {},
   "source": [
    "# Evaluate model on all data of the dataset"
   ]
  },
  {
   "cell_type": "code",
   "execution_count": 92,
   "metadata": {},
   "outputs": [],
   "source": [
    "Y = model.predict(X)\n",
    "\n",
    "predicted_classes = []\n",
    "for array in Y:\n",
    "    max_class = np.argmax(array)\n",
    "    predicted_classes.append(max_class)\n",
    "    \n",
    "actual_classes = []\n",
    "for item in y:\n",
    "    actual_classes.append(item)\n",
    "\n",
    "report = classification_report(y, predicted_classes, target_names=['allow','deny', 'drop', 'reset-both']) \n",
    "cm = confusion_matrix(y, predicted_classes)"
   ]
  },
  {
   "cell_type": "code",
   "execution_count": 93,
   "metadata": {},
   "outputs": [
    {
     "name": "stdout",
     "output_type": "stream",
     "text": [
      "              precision    recall  f1-score   support\n",
      "\n",
      "       allow       1.00      1.00      1.00     37640\n",
      "        deny       0.99      0.87      0.93     14987\n",
      "        drop       0.97      1.00      0.99     12851\n",
      "  reset-both       0.03      0.89      0.06        54\n",
      "\n",
      "    accuracy                           0.97     65532\n",
      "   macro avg       0.75      0.94      0.74     65532\n",
      "weighted avg       0.99      0.97      0.98     65532\n",
      "\n",
      "[[37537    95     3     5]\n",
      " [    6 13013   330  1638]\n",
      " [    0     0 12851     0]\n",
      " [    0     6     0    48]]\n"
     ]
    }
   ],
   "source": [
    "print(report)\n",
    "print(cm)"
   ]
  },
  {
   "cell_type": "code",
   "execution_count": 94,
   "metadata": {},
   "outputs": [
    {
     "data": {
      "text/plain": [
       "<sklearn.metrics._plot.confusion_matrix.ConfusionMatrixDisplay at 0x1e0944c4da0>"
      ]
     },
     "execution_count": 94,
     "metadata": {},
     "output_type": "execute_result"
    },
    {
     "data": {
      "image/png": "[encoded data removed]",
      "text/plain": [
       "<Figure size 432x288 with 2 Axes>"
      ]
     },
     "metadata": {
      "needs_background": "light"
     },
     "output_type": "display_data"
    }
   ],
   "source": [
    "cmd = ConfusionMatrixDisplay(cm, display_labels=['allow','deny', 'drop', 'reset-both'])\n",
    "cmd.plot()"
   ]
  },
  {
   "cell_type": "code",
   "execution_count": null,
   "metadata": {},
   "outputs": [],
   "source": []
  }
 ],
 "metadata": {
  "kernelspec": {
   "display_name": "Python 3",
   "language": "python",
   "name": "python3"
  },
  "language_info": {
   "codemirror_mode": {
    "name": "ipython",
    "version": 3
   },
   "file_extension": ".py",
   "mimetype": "text/x-python",
   "name": "python",
   "nbconvert_exporter": "python",
   "pygments_lexer": "ipython3",
   "version": "3.7.0"
  }
 },
 "nbformat": 4,
 "nbformat_minor": 2
}
